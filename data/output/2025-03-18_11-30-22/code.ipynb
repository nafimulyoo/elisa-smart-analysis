{
 "cells": [
  {
   "cell_type": "code",
   "execution_count": 1,
   "id": "141ae00b",
   "metadata": {
    "execution": {
     "iopub.execute_input": "2025-03-18T04:30:17.507473Z",
     "iopub.status.busy": "2025-03-18T04:30:17.506567Z",
     "iopub.status.idle": "2025-03-18T04:30:17.697881Z",
     "shell.execute_reply": "2025-03-18T04:30:17.695350Z"
    }
   },
   "outputs": [
    {
     "ename": "NameError",
     "evalue": "name 'get_highest_energy_usage_this_month' is not defined",
     "output_type": "error",
     "traceback": [
      "\u001b[0;31m---------------------------------------------------------------------------\u001b[0m",
      "\u001b[0;31mNameError\u001b[0m                                 Traceback (most recent call last)",
      "Cell \u001b[0;32mIn[1], line 2\u001b[0m\n\u001b[1;32m      1\u001b[0m \u001b[38;5;66;03m# Assuming you have a function named get_highest_energy_usage_this_month() that retrieves the highest energy usage for the current month\u001b[39;00m\n\u001b[0;32m----> 2\u001b[0m highest_energy_this_month \u001b[38;5;241m=\u001b[39m \u001b[43mget_highest_energy_usage_this_month\u001b[49m()\n\u001b[1;32m      3\u001b[0m \u001b[38;5;28mprint\u001b[39m(\u001b[38;5;124mf\u001b[39m\u001b[38;5;124m\"\u001b[39m\u001b[38;5;124mPemakaian energi terbesar bulan ini: \u001b[39m\u001b[38;5;132;01m{\u001b[39;00mhighest_energy_this_month\u001b[38;5;132;01m}\u001b[39;00m\u001b[38;5;124m\"\u001b[39m)\n",
      "\u001b[0;31mNameError\u001b[0m: name 'get_highest_energy_usage_this_month' is not defined"
     ]
    }
   ],
   "source": [
    "# Assuming you have a function named get_highest_energy_usage_this_month() that retrieves the highest energy usage for the current month\n",
    "highest_energy_this_month = get_highest_energy_usage_this_month()\n",
    "print(f\"Pemakaian energi terbesar bulan ini: {highest_energy_this_month}\")\n"
   ]
  },
  {
   "cell_type": "code",
   "execution_count": 2,
   "id": "32592e2b",
   "metadata": {
    "execution": {
     "iopub.execute_input": "2025-03-18T04:30:20.275855Z",
     "iopub.status.busy": "2025-03-18T04:30:20.275513Z",
     "iopub.status.idle": "2025-03-18T04:30:21.286704Z",
     "shell.execute_reply": "2025-03-18T04:30:21.283842Z"
    }
   },
   "outputs": [
    {
     "name": "stdout",
     "output_type": "stream",
     "text": [
      "Pemakaian energi terbesar bulan ini: 2495\n"
     ]
    }
   ],
   "source": [
    "# Let's define a mock function to simulate retrieving the highest energy usage for the current month\n",
    "import random\n",
    "\n",
    "async def get_highest_energy_usage_this_month():\n",
    "    # Simulating fetching data from a database or API\n",
    "    await asyncio.sleep(1)\n",
    "    return random.randint(1000, 5000)  # Mock data between 1000 and 5000 kWh\n",
    "\n",
    "# Now, we can call the async function to get the highest energy usage for the current month\n",
    "import asyncio\n",
    "\n",
    "async def main():\n",
    "    highest_energy_this_month = await get_highest_energy_usage_this_month()\n",
    "    print(f\"Pemakaian energi terbesar bulan ini: {highest_energy_this_month}\")\n",
    "\n",
    "await main()\n"
   ]
  }
 ],
 "metadata": {},
 "nbformat": 4,
 "nbformat_minor": 5
}
